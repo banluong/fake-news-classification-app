{
 "cells": [
  {
   "cell_type": "markdown",
   "metadata": {},
   "source": [
    "# Random Forest Hyperparameter Tuning"
   ]
  },
  {
   "cell_type": "markdown",
   "metadata": {},
   "source": [
    "This notebook is a walkthrough on training hyperparameters on the Random Forest machine learning model. We will be training the model on the real/fake news dataset. Analysis of the dataset can be found in the main notebook.\n",
    "\n",
    "For the purpose of this exercise and time, we will be looking at only 2000 examples for each class as training/computation time is very expensive."
   ]
  },
  {
   "cell_type": "markdown",
   "metadata": {},
   "source": [
    "## Import data"
   ]
  },
  {
   "cell_type": "code",
   "execution_count": 1,
   "metadata": {
    "_cell_guid": "b1076dfc-b9ad-4769-8c92-a6c4dae69d19",
    "_uuid": "8f2839f25d086af736a60e9eeb907d3b93b6e0e5"
   },
   "outputs": [
    {
     "name": "stdout",
     "output_type": "stream",
     "text": [
      "/kaggle/input/fake-and-real-news-dataset/True.csv\n",
      "/kaggle/input/fake-and-real-news-dataset/Fake.csv\n"
     ]
    }
   ],
   "source": [
    "# Import our visual libraries\n",
    "import numpy as np\n",
    "import pandas as pd\n",
    "import seaborn as sns\n",
    "import matplotlib.pyplot as plt\n",
    "%matplotlib inline\n",
    "\n",
    "# Import text clearning libraries\n",
    "import re\n",
    "from bs4 import BeautifulSoup\n",
    "import nltk\n",
    "from pprint import pprint\n",
    "\n",
    "#Import data\n",
    "import os\n",
    "for dirname, _, filenames in os.walk('/kaggle/input'):\n",
    "    for filename in filenames:\n",
    "        print(os.path.join(dirname, filename))"
   ]
  },
  {
   "cell_type": "code",
   "execution_count": 2,
   "metadata": {
    "_cell_guid": "79c7e3d0-c299-4dcb-8224-4455121ee9b0",
    "_uuid": "d629ff2d2480ee46fbb7e2d37f6b5fab8052498a"
   },
   "outputs": [
    {
     "data": {
      "text/html": [
       "<div>\n",
       "<style scoped>\n",
       "    .dataframe tbody tr th:only-of-type {\n",
       "        vertical-align: middle;\n",
       "    }\n",
       "\n",
       "    .dataframe tbody tr th {\n",
       "        vertical-align: top;\n",
       "    }\n",
       "\n",
       "    .dataframe thead th {\n",
       "        text-align: right;\n",
       "    }\n",
       "</style>\n",
       "<table border=\"1\" class=\"dataframe\">\n",
       "  <thead>\n",
       "    <tr style=\"text-align: right;\">\n",
       "      <th></th>\n",
       "      <th>title</th>\n",
       "      <th>text</th>\n",
       "      <th>subject</th>\n",
       "      <th>date</th>\n",
       "      <th>label</th>\n",
       "    </tr>\n",
       "  </thead>\n",
       "  <tbody>\n",
       "    <tr>\n",
       "      <th>18710</th>\n",
       "      <td>Yemen cholera cases could hit 1 million by yea...</td>\n",
       "      <td>GENEVA (Reuters) - The humanitarian situation ...</td>\n",
       "      <td>worldnews</td>\n",
       "      <td>September 29, 2017</td>\n",
       "      <td>1</td>\n",
       "    </tr>\n",
       "    <tr>\n",
       "      <th>11618</th>\n",
       "      <td>Myanmar says probe of two Reuters journalists ...</td>\n",
       "      <td>YANGON (Reuters) - A spokesman for Myanmar lea...</td>\n",
       "      <td>worldnews</td>\n",
       "      <td>December 20, 2017</td>\n",
       "      <td>1</td>\n",
       "    </tr>\n",
       "    <tr>\n",
       "      <th>2741</th>\n",
       "      <td>Upgrade with a dab of TPP may be U.S. recipe f...</td>\n",
       "      <td>WASHINGTON (Reuters) - Some provisions of the ...</td>\n",
       "      <td>politicsNews</td>\n",
       "      <td>July 14, 2017</td>\n",
       "      <td>1</td>\n",
       "    </tr>\n",
       "    <tr>\n",
       "      <th>11525</th>\n",
       "      <td>Syrian government envoy: U.S. and Turkish troo...</td>\n",
       "      <td>ASTANA (Reuters) - Syria s U.N. ambassador, Ba...</td>\n",
       "      <td>worldnews</td>\n",
       "      <td>December 22, 2017</td>\n",
       "      <td>1</td>\n",
       "    </tr>\n",
       "    <tr>\n",
       "      <th>12026</th>\n",
       "      <td>Somali security forces arrest former minister ...</td>\n",
       "      <td>MOGADISHU (Reuters) - Somali security forces h...</td>\n",
       "      <td>worldnews</td>\n",
       "      <td>December 18, 2017</td>\n",
       "      <td>1</td>\n",
       "    </tr>\n",
       "  </tbody>\n",
       "</table>\n",
       "</div>"
      ],
      "text/plain": [
       "                                                   title  \\\n",
       "18710  Yemen cholera cases could hit 1 million by yea...   \n",
       "11618  Myanmar says probe of two Reuters journalists ...   \n",
       "2741   Upgrade with a dab of TPP may be U.S. recipe f...   \n",
       "11525  Syrian government envoy: U.S. and Turkish troo...   \n",
       "12026  Somali security forces arrest former minister ...   \n",
       "\n",
       "                                                    text       subject  \\\n",
       "18710  GENEVA (Reuters) - The humanitarian situation ...     worldnews   \n",
       "11618  YANGON (Reuters) - A spokesman for Myanmar lea...     worldnews   \n",
       "2741   WASHINGTON (Reuters) - Some provisions of the ...  politicsNews   \n",
       "11525  ASTANA (Reuters) - Syria s U.N. ambassador, Ba...     worldnews   \n",
       "12026  MOGADISHU (Reuters) - Somali security forces h...     worldnews   \n",
       "\n",
       "                      date  label  \n",
       "18710  September 29, 2017       1  \n",
       "11618   December 20, 2017       1  \n",
       "2741        July 14, 2017       1  \n",
       "11525   December 22, 2017       1  \n",
       "12026   December 18, 2017       1  "
      ]
     },
     "execution_count": 2,
     "metadata": {},
     "output_type": "execute_result"
    }
   ],
   "source": [
    "# Import real and fake datasets\n",
    "# Sample of 2000 random examples for each class\n",
    "real = pd.read_csv(\"/kaggle/input/fake-and-real-news-dataset/True.csv\").sample(2000)\n",
    "fake = pd.read_csv(\"/kaggle/input/fake-and-real-news-dataset/Fake.csv\").sample(2000)\n",
    "\n",
    "# Merge the datasets\n",
    "real[\"label\"] = 1\n",
    "fake[\"label\"] = 0\n",
    "\n",
    "frame = [real, fake]\n",
    "df = pd.concat(frame)\n",
    "\n",
    "df.head()"
   ]
  },
  {
   "cell_type": "code",
   "execution_count": 3,
   "metadata": {},
   "outputs": [
    {
     "data": {
      "text/plain": [
       "title      0\n",
       "text       0\n",
       "subject    0\n",
       "date       0\n",
       "label      0\n",
       "dtype: int64"
      ]
     },
     "execution_count": 3,
     "metadata": {},
     "output_type": "execute_result"
    }
   ],
   "source": [
    "df.isna().sum()"
   ]
  },
  {
   "cell_type": "code",
   "execution_count": 4,
   "metadata": {},
   "outputs": [],
   "source": [
    "# Run this cell to avoid indexes of previous datasets from overlapping\n",
    "df.reset_index(inplace = True)\n",
    "df.drop(\"index\", axis=1, inplace = True)"
   ]
  },
  {
   "cell_type": "markdown",
   "metadata": {},
   "source": [
    "## Text Processing"
   ]
  },
  {
   "cell_type": "code",
   "execution_count": 5,
   "metadata": {},
   "outputs": [
    {
     "data": {
      "text/html": [
       "<div>\n",
       "<style scoped>\n",
       "    .dataframe tbody tr th:only-of-type {\n",
       "        vertical-align: middle;\n",
       "    }\n",
       "\n",
       "    .dataframe tbody tr th {\n",
       "        vertical-align: top;\n",
       "    }\n",
       "\n",
       "    .dataframe thead th {\n",
       "        text-align: right;\n",
       "    }\n",
       "</style>\n",
       "<table border=\"1\" class=\"dataframe\">\n",
       "  <thead>\n",
       "    <tr style=\"text-align: right;\">\n",
       "      <th></th>\n",
       "      <th>title</th>\n",
       "      <th>text</th>\n",
       "      <th>subject</th>\n",
       "      <th>date</th>\n",
       "      <th>label</th>\n",
       "    </tr>\n",
       "  </thead>\n",
       "  <tbody>\n",
       "    <tr>\n",
       "      <th>0</th>\n",
       "      <td>Yemen cholera cases could hit 1 million by yea...</td>\n",
       "      <td>GENEVA (Reuters) - The humanitarian situation ...</td>\n",
       "      <td>worldnews</td>\n",
       "      <td>September 29, 2017</td>\n",
       "      <td>1</td>\n",
       "    </tr>\n",
       "    <tr>\n",
       "      <th>1</th>\n",
       "      <td>Myanmar says probe of two Reuters journalists ...</td>\n",
       "      <td>YANGON (Reuters) - A spokesman for Myanmar lea...</td>\n",
       "      <td>worldnews</td>\n",
       "      <td>December 20, 2017</td>\n",
       "      <td>1</td>\n",
       "    </tr>\n",
       "    <tr>\n",
       "      <th>2</th>\n",
       "      <td>Upgrade with a dab of TPP may be U.S. recipe f...</td>\n",
       "      <td>WASHINGTON (Reuters) - Some provisions of the ...</td>\n",
       "      <td>politicsNews</td>\n",
       "      <td>July 14, 2017</td>\n",
       "      <td>1</td>\n",
       "    </tr>\n",
       "    <tr>\n",
       "      <th>3</th>\n",
       "      <td>Syrian government envoy: U.S. and Turkish troo...</td>\n",
       "      <td>ASTANA (Reuters) - Syria s U.N. ambassador, Ba...</td>\n",
       "      <td>worldnews</td>\n",
       "      <td>December 22, 2017</td>\n",
       "      <td>1</td>\n",
       "    </tr>\n",
       "    <tr>\n",
       "      <th>4</th>\n",
       "      <td>Somali security forces arrest former minister ...</td>\n",
       "      <td>MOGADISHU (Reuters) - Somali security forces h...</td>\n",
       "      <td>worldnews</td>\n",
       "      <td>December 18, 2017</td>\n",
       "      <td>1</td>\n",
       "    </tr>\n",
       "  </tbody>\n",
       "</table>\n",
       "</div>"
      ],
      "text/plain": [
       "                                               title  \\\n",
       "0  Yemen cholera cases could hit 1 million by yea...   \n",
       "1  Myanmar says probe of two Reuters journalists ...   \n",
       "2  Upgrade with a dab of TPP may be U.S. recipe f...   \n",
       "3  Syrian government envoy: U.S. and Turkish troo...   \n",
       "4  Somali security forces arrest former minister ...   \n",
       "\n",
       "                                                text       subject  \\\n",
       "0  GENEVA (Reuters) - The humanitarian situation ...     worldnews   \n",
       "1  YANGON (Reuters) - A spokesman for Myanmar lea...     worldnews   \n",
       "2  WASHINGTON (Reuters) - Some provisions of the ...  politicsNews   \n",
       "3  ASTANA (Reuters) - Syria s U.N. ambassador, Ba...     worldnews   \n",
       "4  MOGADISHU (Reuters) - Somali security forces h...     worldnews   \n",
       "\n",
       "                  date  label  \n",
       "0  September 29, 2017       1  \n",
       "1   December 20, 2017       1  \n",
       "2       July 14, 2017       1  \n",
       "3   December 22, 2017       1  \n",
       "4   December 18, 2017       1  "
      ]
     },
     "execution_count": 5,
     "metadata": {},
     "output_type": "execute_result"
    }
   ],
   "source": [
    "# Want to remove entries which are not dates\n",
    "# See main notebook for more details\n",
    "df = df[df[\"date\"].apply(lambda x: len(x) < 20)]\n",
    "df.head()"
   ]
  },
  {
   "cell_type": "code",
   "execution_count": 6,
   "metadata": {},
   "outputs": [],
   "source": [
    "# Merge text and title columns, remove title, subject and date.\n",
    "df['text'] = df['title'] + \" \" + df['text']\n",
    "del df['title']\n",
    "del df['subject']\n",
    "del df['date']"
   ]
  },
  {
   "cell_type": "code",
   "execution_count": 7,
   "metadata": {},
   "outputs": [
    {
     "data": {
      "text/plain": [
       "text     0\n",
       "label    0\n",
       "dtype: int64"
      ]
     },
     "execution_count": 7,
     "metadata": {},
     "output_type": "execute_result"
    }
   ],
   "source": [
    "# Check if anything missing after cleaning\n",
    "df.isna().sum()"
   ]
  },
  {
   "cell_type": "code",
   "execution_count": 8,
   "metadata": {},
   "outputs": [],
   "source": [
    "# Stopwords to remove from text will have little effect on the context of the text\n",
    "# Stopwords in list already in lower case\n",
    "from nltk.corpus import stopwords"
   ]
  },
  {
   "cell_type": "code",
   "execution_count": 9,
   "metadata": {},
   "outputs": [],
   "source": [
    "# Functions for cleaning text\n",
    "\n",
    "# Use this to deal with apostophes and abbreviation\n",
    "def remove_apostrophe_abbrev(text):\n",
    "    return re.sub('[^\\w\\s]','', text)\n",
    "\n",
    "# Function to remove stopwords\n",
    "def remove_stop_words(text):\n",
    "    clean_text = []\n",
    "    stop_words = stopwords.words('english')\n",
    "    for word in text.split():\n",
    "        if word.strip().lower() not in stop_words:\n",
    "            clean_text.append(word)\n",
    "            \n",
    "    return \" \".join(clean_text)\n",
    "\n",
    "# Remove html tags, using regex is bad idea\n",
    "def remove_html_tags(text):\n",
    "    soup = BeautifulSoup(text, \"html.parser\")\n",
    "    return soup.get_text()\n",
    "\n",
    "# Remove links in text, http and https\n",
    "# s? in regex means or s (case sensitive)\n",
    "def remove_links(text):\n",
    "    return re.sub('https?:\\/\\/\\S+', '', text)\n",
    "\n",
    "# Remove 's (possessive pronouns) from text\n",
    "# Two kinds of apostophes found\n",
    "def remove_possessive_pronoun(text):\n",
    "    return re.sub(\"’s|'s\", '', text)\n",
    "\n",
    "# Remove between brackets and their contents\n",
    "def remove_between_brackets(text):\n",
    "    return re.sub('\\([^]]*\\)', '', text)\n",
    "\n",
    "# Remove square brackets and their contents\n",
    "def remove_between_square_brackets(text):\n",
    "    return re.sub('\\[[^]]*\\]', '', text)\n",
    "\n",
    "# Remove curly brackets and their contents\n",
    "# Useful to remove any JavaScript scripts, though removed\n",
    "# through html as above\n",
    "def remove_between_curly_brackets(text):\n",
    "    return re.sub('\\{[^]]*\\}', '', text)\n",
    "\n",
    "def remove_n_space(text):\n",
    "    return re.sub('\\n', '', text)\n",
    "\n"
   ]
  },
  {
   "cell_type": "code",
   "execution_count": 10,
   "metadata": {},
   "outputs": [],
   "source": [
    "# Function to clean text in text column\n",
    "def text_cleaner(text):\n",
    "    text = remove_html_tags(text)\n",
    "    text = remove_links(text)\n",
    "    text = remove_possessive_pronoun(text)\n",
    "    text = remove_apostrophe_abbrev(text)\n",
    "    text = remove_between_brackets(text)\n",
    "    text = remove_between_square_brackets(text)\n",
    "    text = remove_between_curly_brackets(text)\n",
    "    text = remove_n_space(text)\n",
    "    text = remove_stop_words(text)\n",
    "    \n",
    "    return text"
   ]
  },
  {
   "cell_type": "code",
   "execution_count": 11,
   "metadata": {},
   "outputs": [],
   "source": [
    "# Apply cleaning functions to text\n",
    "df[\"text\"] = df[\"text\"].apply(text_cleaner)"
   ]
  },
  {
   "cell_type": "code",
   "execution_count": 12,
   "metadata": {},
   "outputs": [
    {
     "data": {
      "text/plain": [
       "'Yemen cholera cases could hit 1 million yearend Red Cross GENEVA Reuters humanitarian situation Yemen catastrophe cholera cases could reach million end year International Committee Red Cross said Friday Warring parties Yemen including westernbacked Saudiled coalition using disproportionate force leading excessive civilian casualties said Alexandre Faite head Red Cross delegation Yemen addition suspected cases cholera reached 750000 2119 deaths Faite said Red Cross expects least 900000 cases end year situation really evolved dramatic way think nothing short catastrophe Faite told news briefing Geneva Civil war Yemen killed 10000 people since began March 2015 Control country split Iranaligned Houthis control much northern Yemen including capital Sanaa Opposed Houthis Saudiled coalition main port Hodeidah damaged Red Cross brings medical aid including insulin Yemen occasional cargo planes Sanaa goods come land convoys Jordan Oman ship Jordan Oman Dubai ship Karachi 500 metric tonnes rice due Oct 7 Hodeidah first ICRC shipment since early February Faite called sides open Sanaa airport commercial flights essential aid supplies make progress toward allowing Red Cross visit prisoners war think political settlement coming soon worried extension conflict would lead problems Faite said humanitarian aid access essential goods said bottleneck Although death rate cholera victims dropped less 03 percent Faite said Yemen health sector really knees Yemen health staff knees well paid first time Red Cross providing health workers food parcels said terms access even water electricity power grid main cities Yemen Without ICRC organizations fixing pumping stations running water Sanaa said'"
      ]
     },
     "execution_count": 12,
     "metadata": {},
     "output_type": "execute_result"
    }
   ],
   "source": [
    "df[\"text\"][0]"
   ]
  },
  {
   "cell_type": "markdown",
   "metadata": {},
   "source": [
    "### Lemmatization"
   ]
  },
  {
   "cell_type": "code",
   "execution_count": 13,
   "metadata": {},
   "outputs": [
    {
     "data": {
      "text/html": [
       "<div>\n",
       "<style scoped>\n",
       "    .dataframe tbody tr th:only-of-type {\n",
       "        vertical-align: middle;\n",
       "    }\n",
       "\n",
       "    .dataframe tbody tr th {\n",
       "        vertical-align: top;\n",
       "    }\n",
       "\n",
       "    .dataframe thead th {\n",
       "        text-align: right;\n",
       "    }\n",
       "</style>\n",
       "<table border=\"1\" class=\"dataframe\">\n",
       "  <thead>\n",
       "    <tr style=\"text-align: right;\">\n",
       "      <th></th>\n",
       "      <th>text</th>\n",
       "      <th>label</th>\n",
       "    </tr>\n",
       "  </thead>\n",
       "  <tbody>\n",
       "    <tr>\n",
       "      <th>0</th>\n",
       "      <td>Yemen cholera case could hit 1 million yearend...</td>\n",
       "      <td>1</td>\n",
       "    </tr>\n",
       "    <tr>\n",
       "      <th>1</th>\n",
       "      <td>Myanmar say probe two Reuters journalist almos...</td>\n",
       "      <td>1</td>\n",
       "    </tr>\n",
       "    <tr>\n",
       "      <th>2</th>\n",
       "      <td>Upgrade dab TPP may US recipe NAFTA revamp WAS...</td>\n",
       "      <td>1</td>\n",
       "    </tr>\n",
       "    <tr>\n",
       "      <th>3</th>\n",
       "      <td>Syrian government envoy US Turkish troop leave...</td>\n",
       "      <td>1</td>\n",
       "    </tr>\n",
       "    <tr>\n",
       "      <th>4</th>\n",
       "      <td>Somali security force arrest former minister r...</td>\n",
       "      <td>1</td>\n",
       "    </tr>\n",
       "  </tbody>\n",
       "</table>\n",
       "</div>"
      ],
      "text/plain": [
       "                                                text  label\n",
       "0  Yemen cholera case could hit 1 million yearend...      1\n",
       "1  Myanmar say probe two Reuters journalist almos...      1\n",
       "2  Upgrade dab TPP may US recipe NAFTA revamp WAS...      1\n",
       "3  Syrian government envoy US Turkish troop leave...      1\n",
       "4  Somali security force arrest former minister r...      1"
      ]
     },
     "execution_count": 13,
     "metadata": {},
     "output_type": "execute_result"
    }
   ],
   "source": [
    "from nltk.stem import WordNetLemmatizer\n",
    "\n",
    "lemma = WordNetLemmatizer()\n",
    "\n",
    "# Function to perform lemmatization on text\n",
    "def lemmatize_text(text):\n",
    "    tokenize_text = nltk.word_tokenize(text)\n",
    "    lemmatize_words = [lemma.lemmatize(word) for word in tokenize_text]\n",
    "    join_text = ' '.join(lemmatize_words)\n",
    "    \n",
    "    return join_text\n",
    "\n",
    "# Copy main df dataset and lemmatize the text\n",
    "lemmatized_df = df.copy()\n",
    "lemmatized_df[\"text\"] = lemmatized_df[\"text\"].apply(lemmatize_text)\n",
    "lemmatized_df.head()"
   ]
  },
  {
   "cell_type": "markdown",
   "metadata": {},
   "source": [
    "## Random Forest"
   ]
  },
  {
   "cell_type": "code",
   "execution_count": 14,
   "metadata": {},
   "outputs": [],
   "source": [
    "# Imports from Scikit-Learn library\n",
    "from sklearn.feature_extraction.text import CountVectorizer\n",
    "from sklearn.model_selection import train_test_split\n",
    "from sklearn.ensemble import RandomForestClassifier\n",
    "from sklearn.model_selection import RandomizedSearchCV\n",
    "from sklearn.model_selection import GridSearchCV\n",
    "from sklearn.metrics import roc_auc_score, confusion_matrix, classification_report"
   ]
  },
  {
   "cell_type": "code",
   "execution_count": 15,
   "metadata": {},
   "outputs": [],
   "source": [
    "# Random state at 42 for reproducibility\n",
    "# Go for 80:20 train:test set\n",
    "test_size = 0.20\n",
    "X_train, X_test, y_train, y_test = train_test_split(lemmatized_df[\"text\"], \n",
    "                                                    lemmatized_df[\"label\"], \n",
    "                                                    test_size=test_size, \n",
    "                                                    random_state=42)"
   ]
  },
  {
   "cell_type": "code",
   "execution_count": 16,
   "metadata": {},
   "outputs": [],
   "source": [
    "# Fit CountVectorizer to X_train and X_test datasets\n",
    "cv_train = CountVectorizer(max_features=10000).fit(X_train)\n",
    "X_vec_train = cv_train.transform(X_train)\n",
    "X_vec_test = cv_train.transform(X_test)"
   ]
  },
  {
   "cell_type": "code",
   "execution_count": 17,
   "metadata": {},
   "outputs": [
    {
     "name": "stdout",
     "output_type": "stream",
     "text": [
      "(3199, 10000)\n",
      "(800, 10000)\n"
     ]
    }
   ],
   "source": [
    "# Shape of vectorized train and test sets\n",
    "# max_features = 10000\n",
    "print(X_vec_train.shape)\n",
    "print(X_vec_test.shape)"
   ]
  },
  {
   "cell_type": "code",
   "execution_count": 18,
   "metadata": {},
   "outputs": [
    {
     "name": "stdout",
     "output_type": "stream",
     "text": [
      "current model parameters:\n",
      "{'bootstrap': True,\n",
      " 'ccp_alpha': 0.0,\n",
      " 'class_weight': None,\n",
      " 'criterion': 'gini',\n",
      " 'max_depth': None,\n",
      " 'max_features': 'auto',\n",
      " 'max_leaf_nodes': None,\n",
      " 'max_samples': None,\n",
      " 'min_impurity_decrease': 0.0,\n",
      " 'min_impurity_split': None,\n",
      " 'min_samples_leaf': 1,\n",
      " 'min_samples_split': 2,\n",
      " 'min_weight_fraction_leaf': 0.0,\n",
      " 'n_estimators': 100,\n",
      " 'n_jobs': None,\n",
      " 'oob_score': False,\n",
      " 'random_state': None,\n",
      " 'verbose': 0,\n",
      " 'warm_start': False}\n"
     ]
    }
   ],
   "source": [
    "# Import Random Forest model\n",
    "rf = RandomForestClassifier()\n",
    "\n",
    "print(\"current model parameters:\")\n",
    "pprint(rf.get_params())"
   ]
  },
  {
   "cell_type": "markdown",
   "metadata": {},
   "source": [
    "### Random Search Cross Validation"
   ]
  },
  {
   "cell_type": "markdown",
   "metadata": {},
   "source": [
    "[TowardsDataScience](https://towardsdatascience.com/hyperparameter-tuning-the-random-forest-in-python-using-scikit-learn-28d2aa77dd74) article here.\n",
    "[GitHub](https://github.com/miguelfzafra/Latest-News-Classifier/blob/master/0.%20Latest%20News%20Classifier/04.%20Model%20Training/06.%20MT%20-%20Random%20Forest.ipynb) notebook here.\n",
    "\n",
    "For the purpose of this exercise, we will be tuning these hyperparameters\n",
    "\n",
    "*     n_estimators = number of trees in the foreset\n",
    "*     max_features = max number of features considered for splitting a node\n",
    "*     max_depth = max number of levels in each decision tree\n",
    "*     min_samples_split = min number of data points placed in a node before the node is split\n",
    "*     min_samples_leaf = min number of data points allowed in a leaf node\n",
    "*     bootstrap = method for sampling data points (with or without replacement)"
   ]
  },
  {
   "cell_type": "code",
   "execution_count": 19,
   "metadata": {},
   "outputs": [
    {
     "name": "stdout",
     "output_type": "stream",
     "text": [
      "{'bootstrap': [True, False],\n",
      " 'max_depth': [10, 32, 55, 77, 100, None],\n",
      " 'max_features': ['log2', 'sqrt'],\n",
      " 'min_samples_leaf': [1, 2, 4],\n",
      " 'min_samples_split': [2, 5, 10],\n",
      " 'n_estimators': [200, 650, 1100, 1550, 2000]}\n"
     ]
    }
   ],
   "source": [
    "# n_estimators\n",
    "n_estimators = [int(x) for x in np.linspace(start = 200, stop = 2000, num = 5)]\n",
    "\n",
    "# max_features\n",
    "max_features = ['log2', 'sqrt']\n",
    "\n",
    "# max_depth\n",
    "max_depth = [int(x) for x in np.linspace(start = 10, stop = 100, num = 5)]\n",
    "max_depth.append(None)\n",
    "\n",
    "# min_samples_split\n",
    "min_samples_split = [2, 5, 10]\n",
    "\n",
    "# min_samples_leaf\n",
    "min_samples_leaf = [1, 2, 4]\n",
    "\n",
    "# bootstrap\n",
    "bootstrap = [True, False]\n",
    "\n",
    "random_grid = {\n",
    "    \"n_estimators\": n_estimators,\n",
    "    \"max_features\": max_features,\n",
    "    \"max_depth\": max_depth,\n",
    "    \"min_samples_split\": min_samples_split,\n",
    "    \"min_samples_leaf\": min_samples_leaf,\n",
    "    \"bootstrap\": bootstrap\n",
    "}\n",
    "\n",
    "pprint(random_grid)"
   ]
  },
  {
   "cell_type": "code",
   "execution_count": 20,
   "metadata": {},
   "outputs": [
    {
     "name": "stdout",
     "output_type": "stream",
     "text": [
      "1080\n"
     ]
    }
   ],
   "source": [
    "# 1080 different hyperparameter combinations!\n",
    "print(2*6*2*3*3*5)"
   ]
  },
  {
   "cell_type": "markdown",
   "metadata": {},
   "source": [
    "**Training RandomGridCV**"
   ]
  },
  {
   "cell_type": "markdown",
   "metadata": {},
   "source": [
    "Now lets use the RandomGridCV to look for the best hyperparameters for the model. Only a fixed number of parameters are sampled from the random grid distributions."
   ]
  },
  {
   "cell_type": "code",
   "execution_count": 21,
   "metadata": {},
   "outputs": [
    {
     "name": "stdout",
     "output_type": "stream",
     "text": [
      "Fitting 3 folds for each of 50 candidates, totalling 150 fits\n"
     ]
    },
    {
     "name": "stderr",
     "output_type": "stream",
     "text": [
      "[Parallel(n_jobs=-1)]: Using backend LokyBackend with 4 concurrent workers.\n",
      "/opt/conda/lib/python3.7/site-packages/joblib/externals/loky/process_executor.py:706: UserWarning: A worker stopped while some jobs were given to the executor. This can be caused by a too short worker timeout or by a memory leak.\n",
      "  \"timeout or by a memory leak.\", UserWarning\n",
      "[Parallel(n_jobs=-1)]: Done  33 tasks      | elapsed:  2.0min\n",
      "[Parallel(n_jobs=-1)]: Done 150 out of 150 | elapsed:  9.4min finished\n"
     ]
    },
    {
     "data": {
      "text/plain": [
       "RandomizedSearchCV(cv=3, estimator=RandomForestClassifier(random_state=42),\n",
       "                   n_iter=50, n_jobs=-1,\n",
       "                   param_distributions={'bootstrap': [True, False],\n",
       "                                        'max_depth': [10, 32, 55, 77, 100,\n",
       "                                                      None],\n",
       "                                        'max_features': ['log2', 'sqrt'],\n",
       "                                        'min_samples_leaf': [1, 2, 4],\n",
       "                                        'min_samples_split': [2, 5, 10],\n",
       "                                        'n_estimators': [200, 650, 1100, 1550,\n",
       "                                                         2000]},\n",
       "                   random_state=42, scoring='roc_auc', verbose=2)"
      ]
     },
     "execution_count": 21,
     "metadata": {},
     "output_type": "execute_result"
    }
   ],
   "source": [
    "# This run took ~12 minutes\n",
    "\n",
    "# Base model to tune\n",
    "rfc = RandomForestClassifier(random_state=42)\n",
    "\n",
    "# Set k-fold Cross Validation to 3\n",
    "# Will be looking for 50 random iterations of hyperparameters\n",
    "# n_jobs=1 will slow down output time and increase randomized search time\n",
    "# n_jobs paralelizes training task to cores on cpu\n",
    "random_search = RandomizedSearchCV(estimator=rfc, \n",
    "                                   param_distributions=random_grid,\n",
    "                                   n_iter = 50, \n",
    "                                   scoring='roc_auc', \n",
    "                                   cv = 3, \n",
    "                                   verbose=2, \n",
    "                                   random_state=42, \n",
    "                                   n_jobs=-1)\n",
    "\n",
    "# Fit the random search model\n",
    "random_search.fit(X_vec_train, y_train)"
   ]
  },
  {
   "cell_type": "markdown",
   "metadata": {},
   "source": [
    "How to decrease computation time on Random and GridSearch:\n",
    "* Use less values in your hyperparameter distribution\n",
    "* Decrease number of iterations\n",
    "* Train on less Cross Validation sets, default set at cv=5\n",
    "* Use parallel training on cpu by setting n_jobs=-1 on RandomSearchCV/GridSearchCV\n",
    "* Training using cloud services such as AWS\n",
    "* Use faster models such as Gradient Boosting/ Light GBM which utilises GPU."
   ]
  },
  {
   "cell_type": "code",
   "execution_count": 24,
   "metadata": {},
   "outputs": [
    {
     "name": "stdout",
     "output_type": "stream",
     "text": [
      "Best parameters found from RandomSearchCV\n",
      "{'n_estimators': 1550, 'min_samples_split': 10, 'min_samples_leaf': 1, 'max_features': 'sqrt', 'max_depth': None, 'bootstrap': False}\n",
      "Average score of model with these hyperparameters\n",
      "0.9996692505869795\n"
     ]
    }
   ],
   "source": [
    "# Results of RandomSearchCV\n",
    "print(\"Best parameters found from RandomSearchCV\")\n",
    "print(random_search.best_params_)\n",
    "print(\"Average score of model with these hyperparameters\")\n",
    "print(random_search.best_score_)"
   ]
  },
  {
   "cell_type": "markdown",
   "metadata": {},
   "source": [
    "### Training with GridSearchCV"
   ]
  },
  {
   "cell_type": "markdown",
   "metadata": {},
   "source": [
    "Now we've seen the hyperparameters from Random Search, lets narrow down the choices of values and train with Grid Search."
   ]
  },
  {
   "cell_type": "code",
   "execution_count": 27,
   "metadata": {},
   "outputs": [
    {
     "name": "stdout",
     "output_type": "stream",
     "text": [
      "Fitting 3 folds for each of 27 candidates, totalling 81 fits\n"
     ]
    },
    {
     "name": "stderr",
     "output_type": "stream",
     "text": [
      "[Parallel(n_jobs=-1)]: Using backend LokyBackend with 4 concurrent workers.\n",
      "[Parallel(n_jobs=-1)]: Done  33 tasks      | elapsed:  4.3min\n",
      "[Parallel(n_jobs=-1)]: Done  81 out of  81 | elapsed:  9.2min finished\n"
     ]
    },
    {
     "data": {
      "text/plain": [
       "GridSearchCV(cv=3, estimator=RandomForestClassifier(random_state=42), n_jobs=-1,\n",
       "             param_grid={'bootstrap': [False], 'max_depth': [None, 10, 32],\n",
       "                         'max_features': ['sqrt'],\n",
       "                         'min_samples_leaf': [1, 2, 4],\n",
       "                         'min_samples_split': [2, 5, 10],\n",
       "                         'n_estimators': [1550]},\n",
       "             scoring='roc_auc', verbose=2)"
      ]
     },
     "execution_count": 27,
     "metadata": {},
     "output_type": "execute_result"
    }
   ],
   "source": [
    "# Time taken to train: ~13 minutes\n",
    "\n",
    "# n_estimators\n",
    "n_estimators = [1550]\n",
    "\n",
    "# max_features\n",
    "max_features = ['sqrt']\n",
    "\n",
    "# max_depth\n",
    "max_depth = [None, 10, 32]\n",
    "\n",
    "# min_samples_split\n",
    "min_samples_split = [2, 5, 10]\n",
    "\n",
    "# min_samples_leaf\n",
    "min_samples_leaf = [1, 2, 4]\n",
    "\n",
    "# bootstrap\n",
    "bootstrap = [False]\n",
    "\n",
    "parameter_grid = {\n",
    "    \"n_estimators\": n_estimators,\n",
    "    \"max_features\": max_features,\n",
    "    \"max_depth\": max_depth,\n",
    "    \"min_samples_split\": min_samples_split,\n",
    "    \"min_samples_leaf\": min_samples_leaf,\n",
    "    \"bootstrap\": bootstrap\n",
    "}\n",
    "\n",
    "# Base model to tune\n",
    "rfc = RandomForestClassifier(random_state=42)\n",
    "\n",
    "# Manually create the splits in CV in order to be able to fix a random_state (GridSearchCV doesn't have that argument)\n",
    "#cv_sets = ShuffleSplit(n_splits = 3, test_size = .33, random_state = 42)\n",
    "\n",
    "# Set k-fold Cross Validation to 3\n",
    "grid_search = GridSearchCV(estimator=rfc, \n",
    "                           param_grid=parameter_grid,\n",
    "                           scoring='roc_auc', \n",
    "                           cv = 3, \n",
    "                           verbose=2, \n",
    "                           n_jobs=-1)\n",
    "\n",
    "# Fit the grid search to model\n",
    "grid_search.fit(X_vec_train, y_train)"
   ]
  },
  {
   "cell_type": "code",
   "execution_count": 34,
   "metadata": {},
   "outputs": [
    {
     "name": "stdout",
     "output_type": "stream",
     "text": [
      "Best parameters found from GridSearchCV:\n",
      "{'bootstrap': False, 'max_depth': None, 'max_features': 'sqrt', 'min_samples_leaf': 1, 'min_samples_split': 2, 'n_estimators': 1550}\n",
      "Average score of model with these hyperparameters:\n",
      "0.9996768613393762\n"
     ]
    }
   ],
   "source": [
    "# Results of GridSearchCV\n",
    "print(\"Best parameters found from GridSearchCV:\")\n",
    "print(grid_search.best_params_)\n",
    "print(\"Average score of model with these hyperparameters:\")\n",
    "print(grid_search.best_score_)"
   ]
  },
  {
   "cell_type": "markdown",
   "metadata": {},
   "source": [
    "Best parameters found from GridSearchCV: <br>\n",
    "{'n_estimators': 1550, 'min_samples_split': 10, 'min_samples_leaf': 1, 'max_features': 'sqrt', 'max_depth': None, 'bootstrap': False}\n",
    "\n",
    "Average score of model with these hyperparameters: <br>\n",
    "0.9996692505869795\n"
   ]
  },
  {
   "cell_type": "markdown",
   "metadata": {},
   "source": [
    "Let's save the best model with these hyperparameters."
   ]
  },
  {
   "cell_type": "code",
   "execution_count": 31,
   "metadata": {},
   "outputs": [
    {
     "data": {
      "text/plain": [
       "RandomForestClassifier(bootstrap=False, max_features='sqrt', n_estimators=1550,\n",
       "                       random_state=42)"
      ]
     },
     "execution_count": 31,
     "metadata": {},
     "output_type": "execute_result"
    }
   ],
   "source": [
    "best_rfc = grid_search.best_estimator_\n",
    "best_rfc"
   ]
  },
  {
   "cell_type": "code",
   "execution_count": 32,
   "metadata": {},
   "outputs": [
    {
     "name": "stdout",
     "output_type": "stream",
     "text": [
      "{'bootstrap': False,\n",
      " 'ccp_alpha': 0.0,\n",
      " 'class_weight': None,\n",
      " 'criterion': 'gini',\n",
      " 'max_depth': None,\n",
      " 'max_features': 'sqrt',\n",
      " 'max_leaf_nodes': None,\n",
      " 'max_samples': None,\n",
      " 'min_impurity_decrease': 0.0,\n",
      " 'min_impurity_split': None,\n",
      " 'min_samples_leaf': 1,\n",
      " 'min_samples_split': 2,\n",
      " 'min_weight_fraction_leaf': 0.0,\n",
      " 'n_estimators': 1550,\n",
      " 'n_jobs': None,\n",
      " 'oob_score': False,\n",
      " 'random_state': 42,\n",
      " 'verbose': 0,\n",
      " 'warm_start': False}\n"
     ]
    }
   ],
   "source": [
    "# All parameters of best_rfc\n",
    "pprint(best_rfc.get_params())"
   ]
  },
  {
   "cell_type": "code",
   "execution_count": 33,
   "metadata": {},
   "outputs": [
    {
     "name": "stdout",
     "output_type": "stream",
     "text": [
      "{'bootstrap': True,\n",
      " 'ccp_alpha': 0.0,\n",
      " 'class_weight': None,\n",
      " 'criterion': 'gini',\n",
      " 'max_depth': None,\n",
      " 'max_features': 'auto',\n",
      " 'max_leaf_nodes': None,\n",
      " 'max_samples': None,\n",
      " 'min_impurity_decrease': 0.0,\n",
      " 'min_impurity_split': None,\n",
      " 'min_samples_leaf': 1,\n",
      " 'min_samples_split': 2,\n",
      " 'min_weight_fraction_leaf': 0.0,\n",
      " 'n_estimators': 100,\n",
      " 'n_jobs': None,\n",
      " 'oob_score': False,\n",
      " 'random_state': None,\n",
      " 'verbose': 0,\n",
      " 'warm_start': False}\n"
     ]
    }
   ],
   "source": [
    "# A look at the base random forest model with default parameters\n",
    "pprint(rf.get_params())"
   ]
  },
  {
   "cell_type": "markdown",
   "metadata": {},
   "source": [
    "## Model Training and Evaluation"
   ]
  },
  {
   "cell_type": "markdown",
   "metadata": {},
   "source": [
    "**Model Training**"
   ]
  },
  {
   "cell_type": "code",
   "execution_count": 35,
   "metadata": {},
   "outputs": [],
   "source": [
    "# Training on best Random Forest model\n",
    "\n",
    "# Fit to training set\n",
    "best_rfc.fit(X_vec_train, y_train)\n",
    "\n",
    "# Make prediction to test set\n",
    "predicted_value = best_rfc.predict(X_vec_test)\n",
    "\n",
    "# Get ROC score\n",
    "best_rfc_accuracy_value = roc_auc_score(y_test, predicted_value)"
   ]
  },
  {
   "cell_type": "markdown",
   "metadata": {},
   "source": [
    "**Training Accuracy**"
   ]
  },
  {
   "cell_type": "code",
   "execution_count": 36,
   "metadata": {},
   "outputs": [
    {
     "name": "stdout",
     "output_type": "stream",
     "text": [
      "ROC: 100.0%\n"
     ]
    }
   ],
   "source": [
    "# Best Random Forest Training ROC 100% lemmatized text\n",
    "print(\"ROC: \" + str(roc_auc_score(y_train, best_rfc.predict(X_vec_train))*100) + \"%\")"
   ]
  },
  {
   "cell_type": "markdown",
   "metadata": {},
   "source": [
    "**Test Accuracy**"
   ]
  },
  {
   "cell_type": "code",
   "execution_count": 39,
   "metadata": {},
   "outputs": [
    {
     "name": "stdout",
     "output_type": "stream",
     "text": [
      "ROC: 98.98920356751681%\n"
     ]
    }
   ],
   "source": [
    "# Random Forest Test ROC 98.99% lemmatized text\n",
    "print(\"ROC: \" + str(best_rfc_accuracy_value*100) + \"%\")"
   ]
  },
  {
   "cell_type": "markdown",
   "metadata": {},
   "source": [
    "**Confusion Matrix and Classification Report**"
   ]
  },
  {
   "cell_type": "code",
   "execution_count": 40,
   "metadata": {},
   "outputs": [
    {
     "name": "stdout",
     "output_type": "stream",
     "text": [
      "[[380   5]\n",
      " [  3 412]]\n",
      "              precision    recall  f1-score   support\n",
      "\n",
      "           0       0.99      0.99      0.99       385\n",
      "           1       0.99      0.99      0.99       415\n",
      "\n",
      "    accuracy                           0.99       800\n",
      "   macro avg       0.99      0.99      0.99       800\n",
      "weighted avg       0.99      0.99      0.99       800\n",
      "\n"
     ]
    }
   ],
   "source": [
    "conmat = confusion_matrix(y_test, predicted_value)\n",
    "print(conmat)\n",
    "print(classification_report(y_test, predicted_value))"
   ]
  },
  {
   "cell_type": "markdown",
   "metadata": {},
   "source": [
    "**Confusion Matrix**"
   ]
  },
  {
   "cell_type": "code",
   "execution_count": 41,
   "metadata": {},
   "outputs": [
    {
     "data": {
      "text/plain": [
       "Text(0.5, 15.0, 'predicted values')"
      ]
     },
     "execution_count": 41,
     "metadata": {},
     "output_type": "execute_result"
    },
    {
     "data": {
      "image/png": "[encoded data removed]",
      "text/plain": [
       "<Figure size 432x288 with 2 Axes>"
      ]
     },
     "metadata": {
      "needs_background": "light"
     },
     "output_type": "display_data"
    }
   ],
   "source": [
    "# Visual of confusion matrix of best model\n",
    "fig = plt.subplot()\n",
    "sns.heatmap(conmat, annot=True, ax=fig)\n",
    "fig.set_ylabel('y_test')\n",
    "fig.set_xlabel('predicted values')"
   ]
  },
  {
   "cell_type": "markdown",
   "metadata": {},
   "source": [
    "## Comparision to Base Model"
   ]
  },
  {
   "cell_type": "markdown",
   "metadata": {},
   "source": [
    "Lets compare whether tuning the hyperparameters made a difference in model accuracy. We will train the base model from earlier."
   ]
  },
  {
   "cell_type": "code",
   "execution_count": 42,
   "metadata": {},
   "outputs": [
    {
     "data": {
      "text/plain": [
       "RandomForestClassifier(random_state=42)"
      ]
     },
     "execution_count": 42,
     "metadata": {},
     "output_type": "execute_result"
    }
   ],
   "source": [
    "# The base model\n",
    "rfc"
   ]
  },
  {
   "cell_type": "markdown",
   "metadata": {},
   "source": [
    "**Base model training**"
   ]
  },
  {
   "cell_type": "code",
   "execution_count": 43,
   "metadata": {},
   "outputs": [],
   "source": [
    "# Training on base Random Forest model\n",
    "\n",
    "# Fit to training set\n",
    "rfc.fit(X_vec_train, y_train)\n",
    "\n",
    "# Make prediction to test set\n",
    "predicted_value = rfc.predict(X_vec_test)\n",
    "\n",
    "# Get ROC score\n",
    "rfc_accuracy_value = roc_auc_score(y_test, predicted_value)"
   ]
  },
  {
   "cell_type": "markdown",
   "metadata": {},
   "source": [
    "**Training Accuracy**"
   ]
  },
  {
   "cell_type": "code",
   "execution_count": 44,
   "metadata": {},
   "outputs": [
    {
     "name": "stdout",
     "output_type": "stream",
     "text": [
      "ROC: 100.0%\n"
     ]
    }
   ],
   "source": [
    "# Random Forest Training ROC 100% lemmatized text\n",
    "print(\"ROC: \" + str(roc_auc_score(y_train, rfc.predict(X_vec_train))*100) + \"%\")"
   ]
  },
  {
   "cell_type": "markdown",
   "metadata": {},
   "source": [
    "**Test Accuracy**"
   ]
  },
  {
   "cell_type": "code",
   "execution_count": 45,
   "metadata": {},
   "outputs": [
    {
     "name": "stdout",
     "output_type": "stream",
     "text": [
      "ROC: 98.4697230480363%\n"
     ]
    }
   ],
   "source": [
    "# Random Forest Test ROC 98.47% lemmatized text\n",
    "print(\"ROC: \" + str(rfc_accuracy_value*100) + \"%\")"
   ]
  },
  {
   "cell_type": "markdown",
   "metadata": {},
   "source": [
    "Looks like after a total of less than 30 minutes of hyperparameter tuning, the accuracy has only increased by a small amount."
   ]
  },
  {
   "cell_type": "code",
   "execution_count": 50,
   "metadata": {},
   "outputs": [],
   "source": [
    "d = {\n",
    "     'Model': ['Base Model', 'Tuned Model'],\n",
    "     'Training Set Accuracy': [roc_auc_score(y_train, rfc.predict(X_vec_train)), roc_auc_score(y_train, best_rfc.predict(X_vec_train))],\n",
    "     'Test Set Accuracy': [rfc_accuracy_value, best_rfc_accuracy_value]\n",
    "}\n",
    "\n",
    "df_models_rfc = pd.DataFrame(d)"
   ]
  },
  {
   "cell_type": "code",
   "execution_count": 51,
   "metadata": {},
   "outputs": [
    {
     "data": {
      "text/html": [
       "<div>\n",
       "<style scoped>\n",
       "    .dataframe tbody tr th:only-of-type {\n",
       "        vertical-align: middle;\n",
       "    }\n",
       "\n",
       "    .dataframe tbody tr th {\n",
       "        vertical-align: top;\n",
       "    }\n",
       "\n",
       "    .dataframe thead th {\n",
       "        text-align: right;\n",
       "    }\n",
       "</style>\n",
       "<table border=\"1\" class=\"dataframe\">\n",
       "  <thead>\n",
       "    <tr style=\"text-align: right;\">\n",
       "      <th></th>\n",
       "      <th>Model</th>\n",
       "      <th>Training Set Accuracy</th>\n",
       "      <th>Test Set Accuracy</th>\n",
       "    </tr>\n",
       "  </thead>\n",
       "  <tbody>\n",
       "    <tr>\n",
       "      <th>0</th>\n",
       "      <td>Base Model</td>\n",
       "      <td>1.0</td>\n",
       "      <td>0.984697</td>\n",
       "    </tr>\n",
       "    <tr>\n",
       "      <th>1</th>\n",
       "      <td>Tuned Model</td>\n",
       "      <td>1.0</td>\n",
       "      <td>0.989892</td>\n",
       "    </tr>\n",
       "  </tbody>\n",
       "</table>\n",
       "</div>"
      ],
      "text/plain": [
       "         Model  Training Set Accuracy  Test Set Accuracy\n",
       "0   Base Model                    1.0           0.984697\n",
       "1  Tuned Model                    1.0           0.989892"
      ]
     },
     "execution_count": 51,
     "metadata": {},
     "output_type": "execute_result"
    }
   ],
   "source": [
    "# Models table\n",
    "df_models_rfc"
   ]
  },
  {
   "cell_type": "markdown",
   "metadata": {},
   "source": [
    "**What was learnt from this exercise**\n",
    "* How to tuning hyperparameters with RandomSearchCV\n",
    "* Narrow down choices of hyperparameter values with GridSearchCV\n",
    "* Train models using cpu cores in parallel (n_jobs=-1)\n",
    "* How to decrease training time\n",
    "* Compare and evaluate best model to base model"
   ]
  },
  {
   "cell_type": "code",
   "execution_count": null,
   "metadata": {},
   "outputs": [],
   "source": []
  }
 ],
 "metadata": {
  "kernelspec": {
   "display_name": "Python 3",
   "language": "python",
   "name": "python3"
  },
  "language_info": {
   "codemirror_mode": {
    "name": "ipython",
    "version": 3
   },
   "file_extension": ".py",
   "mimetype": "text/x-python",
   "name": "python",
   "nbconvert_exporter": "python",
   "pygments_lexer": "ipython3",
   "version": "3.6.9"
  }
 },
 "nbformat": 4,
 "nbformat_minor": 4
}
